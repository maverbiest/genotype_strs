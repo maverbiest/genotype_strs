{
 "cells": [
  {
   "cell_type": "code",
   "execution_count": 1,
   "id": "8d35d902",
   "metadata": {},
   "outputs": [],
   "source": [
    "import os\n",
    "import sys\n",
    "\n",
    "import numpy as np\n",
    "import pandas as pd\n",
    "from matplotlib import pyplot as plt\n",
    "import seaborn as sb"
   ]
  },
  {
   "cell_type": "code",
   "execution_count": 9,
   "id": "24a5d75b",
   "metadata": {},
   "outputs": [
    {
     "data": {
      "text/html": [
       "<div>\n",
       "<style scoped>\n",
       "    .dataframe tbody tr th:only-of-type {\n",
       "        vertical-align: middle;\n",
       "    }\n",
       "\n",
       "    .dataframe tbody tr th {\n",
       "        vertical-align: top;\n",
       "    }\n",
       "\n",
       "    .dataframe thead th {\n",
       "        text-align: right;\n",
       "    }\n",
       "</style>\n",
       "<table border=\"1\" class=\"dataframe\">\n",
       "  <thead>\n",
       "    <tr style=\"text-align: right;\">\n",
       "      <th></th>\n",
       "      <th>chrom</th>\n",
       "      <th>start</th>\n",
       "      <th>end</th>\n",
       "      <th>motif</th>\n",
       "      <th>motif_len</th>\n",
       "      <th>ref_cn</th>\n",
       "      <th>diffs</th>\n",
       "      <th>call_rate</th>\n",
       "      <th>avg_diffs</th>\n",
       "    </tr>\n",
       "  </thead>\n",
       "  <tbody>\n",
       "    <tr>\n",
       "      <th>0</th>\n",
       "      <td>chr1</td>\n",
       "      <td>64096</td>\n",
       "      <td>64101</td>\n",
       "      <td>TG</td>\n",
       "      <td>2</td>\n",
       "      <td>3.0</td>\n",
       "      <td>0.0</td>\n",
       "      <td>0.9</td>\n",
       "      <td>0.0</td>\n",
       "    </tr>\n",
       "    <tr>\n",
       "      <th>1</th>\n",
       "      <td>chr1</td>\n",
       "      <td>64165</td>\n",
       "      <td>64176</td>\n",
       "      <td>CACATA</td>\n",
       "      <td>6</td>\n",
       "      <td>2.0</td>\n",
       "      <td>0.0</td>\n",
       "      <td>0.8</td>\n",
       "      <td>0.0</td>\n",
       "    </tr>\n",
       "    <tr>\n",
       "      <th>2</th>\n",
       "      <td>chr1</td>\n",
       "      <td>64174</td>\n",
       "      <td>64181</td>\n",
       "      <td>AT</td>\n",
       "      <td>2</td>\n",
       "      <td>4.0</td>\n",
       "      <td>0.0</td>\n",
       "      <td>1.0</td>\n",
       "      <td>0.0</td>\n",
       "    </tr>\n",
       "    <tr>\n",
       "      <th>3</th>\n",
       "      <td>chr1</td>\n",
       "      <td>64215</td>\n",
       "      <td>64220</td>\n",
       "      <td>ATA</td>\n",
       "      <td>3</td>\n",
       "      <td>2.0</td>\n",
       "      <td>0.0</td>\n",
       "      <td>1.0</td>\n",
       "      <td>0.0</td>\n",
       "    </tr>\n",
       "    <tr>\n",
       "      <th>4</th>\n",
       "      <td>chr1</td>\n",
       "      <td>64233</td>\n",
       "      <td>64240</td>\n",
       "      <td>AATT</td>\n",
       "      <td>4</td>\n",
       "      <td>2.0</td>\n",
       "      <td>0.0</td>\n",
       "      <td>1.0</td>\n",
       "      <td>0.0</td>\n",
       "    </tr>\n",
       "    <tr>\n",
       "      <th>...</th>\n",
       "      <td>...</td>\n",
       "      <td>...</td>\n",
       "      <td>...</td>\n",
       "      <td>...</td>\n",
       "      <td>...</td>\n",
       "      <td>...</td>\n",
       "      <td>...</td>\n",
       "      <td>...</td>\n",
       "      <td>...</td>\n",
       "    </tr>\n",
       "    <tr>\n",
       "      <th>20189360</th>\n",
       "      <td>chrY</td>\n",
       "      <td>22344566</td>\n",
       "      <td>22344571</td>\n",
       "      <td>TCC</td>\n",
       "      <td>3</td>\n",
       "      <td>2.0</td>\n",
       "      <td>0.0</td>\n",
       "      <td>0.2</td>\n",
       "      <td>0.0</td>\n",
       "    </tr>\n",
       "    <tr>\n",
       "      <th>20189361</th>\n",
       "      <td>chrY</td>\n",
       "      <td>22344632</td>\n",
       "      <td>22344639</td>\n",
       "      <td>TCCA</td>\n",
       "      <td>4</td>\n",
       "      <td>2.0</td>\n",
       "      <td>0.0</td>\n",
       "      <td>0.2</td>\n",
       "      <td>0.0</td>\n",
       "    </tr>\n",
       "    <tr>\n",
       "      <th>20189362</th>\n",
       "      <td>chrY</td>\n",
       "      <td>22344677</td>\n",
       "      <td>22344685</td>\n",
       "      <td>GGA</td>\n",
       "      <td>3</td>\n",
       "      <td>3.0</td>\n",
       "      <td>0.0</td>\n",
       "      <td>0.2</td>\n",
       "      <td>0.0</td>\n",
       "    </tr>\n",
       "    <tr>\n",
       "      <th>20189363</th>\n",
       "      <td>chrY</td>\n",
       "      <td>22344717</td>\n",
       "      <td>22344726</td>\n",
       "      <td>TTCTG</td>\n",
       "      <td>5</td>\n",
       "      <td>2.0</td>\n",
       "      <td>0.0</td>\n",
       "      <td>0.1</td>\n",
       "      <td>0.0</td>\n",
       "    </tr>\n",
       "    <tr>\n",
       "      <th>20189364</th>\n",
       "      <td>chrY</td>\n",
       "      <td>22344836</td>\n",
       "      <td>22344841</td>\n",
       "      <td>AG</td>\n",
       "      <td>2</td>\n",
       "      <td>3.0</td>\n",
       "      <td>0.0</td>\n",
       "      <td>0.2</td>\n",
       "      <td>0.0</td>\n",
       "    </tr>\n",
       "  </tbody>\n",
       "</table>\n",
       "<p>20189365 rows × 9 columns</p>\n",
       "</div>"
      ],
      "text/plain": [
       "         chrom     start       end   motif  motif_len  ref_cn  diffs  \\\n",
       "0         chr1     64096     64101      TG          2     3.0    0.0   \n",
       "1         chr1     64165     64176  CACATA          6     2.0    0.0   \n",
       "2         chr1     64174     64181      AT          2     4.0    0.0   \n",
       "3         chr1     64215     64220     ATA          3     2.0    0.0   \n",
       "4         chr1     64233     64240    AATT          4     2.0    0.0   \n",
       "...        ...       ...       ...     ...        ...     ...    ...   \n",
       "20189360  chrY  22344566  22344571     TCC          3     2.0    0.0   \n",
       "20189361  chrY  22344632  22344639    TCCA          4     2.0    0.0   \n",
       "20189362  chrY  22344677  22344685     GGA          3     3.0    0.0   \n",
       "20189363  chrY  22344717  22344726   TTCTG          5     2.0    0.0   \n",
       "20189364  chrY  22344836  22344841      AG          2     3.0    0.0   \n",
       "\n",
       "          call_rate  avg_diffs  \n",
       "0               0.9        0.0  \n",
       "1               0.8        0.0  \n",
       "2               1.0        0.0  \n",
       "3               1.0        0.0  \n",
       "4               1.0        0.0  \n",
       "...             ...        ...  \n",
       "20189360        0.2        0.0  \n",
       "20189361        0.2        0.0  \n",
       "20189362        0.2        0.0  \n",
       "20189363        0.1        0.0  \n",
       "20189364        0.2        0.0  \n",
       "\n",
       "[20189365 rows x 9 columns]"
      ]
     },
     "execution_count": 9,
     "metadata": {},
     "output_type": "execute_result"
    }
   ],
   "source": [
    "df = pd.read_csv(\"1000g_tral_panel.tsv\", sep=\"\\t\", header=0)\n",
    "df"
   ]
  },
  {
   "cell_type": "code",
   "execution_count": 38,
   "id": "bd4c2f34",
   "metadata": {},
   "outputs": [
    {
     "data": {
      "text/html": [
       "<div>\n",
       "<style scoped>\n",
       "    .dataframe tbody tr th:only-of-type {\n",
       "        vertical-align: middle;\n",
       "    }\n",
       "\n",
       "    .dataframe tbody tr th {\n",
       "        vertical-align: top;\n",
       "    }\n",
       "\n",
       "    .dataframe thead th {\n",
       "        text-align: right;\n",
       "    }\n",
       "</style>\n",
       "<table border=\"1\" class=\"dataframe\">\n",
       "  <thead>\n",
       "    <tr style=\"text-align: right;\">\n",
       "      <th></th>\n",
       "      <th>chrom</th>\n",
       "      <th>start</th>\n",
       "      <th>end</th>\n",
       "      <th>motif</th>\n",
       "      <th>motif_len</th>\n",
       "      <th>ref_cn</th>\n",
       "      <th>diffs</th>\n",
       "      <th>call_rate</th>\n",
       "      <th>avg_diffs</th>\n",
       "    </tr>\n",
       "  </thead>\n",
       "  <tbody>\n",
       "    <tr>\n",
       "      <th>106</th>\n",
       "      <td>chr1</td>\n",
       "      <td>178267</td>\n",
       "      <td>178275</td>\n",
       "      <td>T</td>\n",
       "      <td>1</td>\n",
       "      <td>9.0</td>\n",
       "      <td>3.0</td>\n",
       "      <td>1.0</td>\n",
       "      <td>0.30</td>\n",
       "    </tr>\n",
       "    <tr>\n",
       "      <th>168</th>\n",
       "      <td>chr1</td>\n",
       "      <td>181578</td>\n",
       "      <td>181600</td>\n",
       "      <td>G</td>\n",
       "      <td>1</td>\n",
       "      <td>23.0</td>\n",
       "      <td>47.0</td>\n",
       "      <td>0.9</td>\n",
       "      <td>5.22</td>\n",
       "    </tr>\n",
       "    <tr>\n",
       "      <th>216</th>\n",
       "      <td>chr1</td>\n",
       "      <td>185624</td>\n",
       "      <td>185635</td>\n",
       "      <td>CCCCAC</td>\n",
       "      <td>6</td>\n",
       "      <td>2.0</td>\n",
       "      <td>1.0</td>\n",
       "      <td>1.0</td>\n",
       "      <td>0.10</td>\n",
       "    </tr>\n",
       "    <tr>\n",
       "      <th>217</th>\n",
       "      <td>chr1</td>\n",
       "      <td>185717</td>\n",
       "      <td>185722</td>\n",
       "      <td>TGA</td>\n",
       "      <td>3</td>\n",
       "      <td>2.0</td>\n",
       "      <td>1.0</td>\n",
       "      <td>1.0</td>\n",
       "      <td>0.10</td>\n",
       "    </tr>\n",
       "    <tr>\n",
       "      <th>218</th>\n",
       "      <td>chr1</td>\n",
       "      <td>185728</td>\n",
       "      <td>185733</td>\n",
       "      <td>CGG</td>\n",
       "      <td>3</td>\n",
       "      <td>2.0</td>\n",
       "      <td>1.0</td>\n",
       "      <td>1.0</td>\n",
       "      <td>0.10</td>\n",
       "    </tr>\n",
       "    <tr>\n",
       "      <th>...</th>\n",
       "      <td>...</td>\n",
       "      <td>...</td>\n",
       "      <td>...</td>\n",
       "      <td>...</td>\n",
       "      <td>...</td>\n",
       "      <td>...</td>\n",
       "      <td>...</td>\n",
       "      <td>...</td>\n",
       "      <td>...</td>\n",
       "    </tr>\n",
       "    <tr>\n",
       "      <th>20189139</th>\n",
       "      <td>chrX</td>\n",
       "      <td>156006201</td>\n",
       "      <td>156006214</td>\n",
       "      <td>TG</td>\n",
       "      <td>2</td>\n",
       "      <td>7.0</td>\n",
       "      <td>2.0</td>\n",
       "      <td>0.4</td>\n",
       "      <td>0.50</td>\n",
       "    </tr>\n",
       "    <tr>\n",
       "      <th>20189206</th>\n",
       "      <td>chrX</td>\n",
       "      <td>156010619</td>\n",
       "      <td>156010626</td>\n",
       "      <td>TTCC</td>\n",
       "      <td>4</td>\n",
       "      <td>2.0</td>\n",
       "      <td>2.0</td>\n",
       "      <td>0.4</td>\n",
       "      <td>0.50</td>\n",
       "    </tr>\n",
       "    <tr>\n",
       "      <th>20189207</th>\n",
       "      <td>chrX</td>\n",
       "      <td>156010652</td>\n",
       "      <td>156010657</td>\n",
       "      <td>CT</td>\n",
       "      <td>2</td>\n",
       "      <td>3.0</td>\n",
       "      <td>3.0</td>\n",
       "      <td>0.4</td>\n",
       "      <td>0.75</td>\n",
       "    </tr>\n",
       "    <tr>\n",
       "      <th>20189208</th>\n",
       "      <td>chrX</td>\n",
       "      <td>156010674</td>\n",
       "      <td>156010679</td>\n",
       "      <td>TC</td>\n",
       "      <td>2</td>\n",
       "      <td>3.0</td>\n",
       "      <td>3.0</td>\n",
       "      <td>0.4</td>\n",
       "      <td>0.75</td>\n",
       "    </tr>\n",
       "    <tr>\n",
       "      <th>20189333</th>\n",
       "      <td>chrY</td>\n",
       "      <td>5611459</td>\n",
       "      <td>5611464</td>\n",
       "      <td>G</td>\n",
       "      <td>1</td>\n",
       "      <td>6.0</td>\n",
       "      <td>3.0</td>\n",
       "      <td>0.3</td>\n",
       "      <td>1.00</td>\n",
       "    </tr>\n",
       "  </tbody>\n",
       "</table>\n",
       "<p>2449719 rows × 9 columns</p>\n",
       "</div>"
      ],
      "text/plain": [
       "         chrom      start        end   motif  motif_len  ref_cn  diffs  \\\n",
       "106       chr1     178267     178275       T          1     9.0    3.0   \n",
       "168       chr1     181578     181600       G          1    23.0   47.0   \n",
       "216       chr1     185624     185635  CCCCAC          6     2.0    1.0   \n",
       "217       chr1     185717     185722     TGA          3     2.0    1.0   \n",
       "218       chr1     185728     185733     CGG          3     2.0    1.0   \n",
       "...        ...        ...        ...     ...        ...     ...    ...   \n",
       "20189139  chrX  156006201  156006214      TG          2     7.0    2.0   \n",
       "20189206  chrX  156010619  156010626    TTCC          4     2.0    2.0   \n",
       "20189207  chrX  156010652  156010657      CT          2     3.0    3.0   \n",
       "20189208  chrX  156010674  156010679      TC          2     3.0    3.0   \n",
       "20189333  chrY    5611459    5611464       G          1     6.0    3.0   \n",
       "\n",
       "          call_rate  avg_diffs  \n",
       "106             1.0       0.30  \n",
       "168             0.9       5.22  \n",
       "216             1.0       0.10  \n",
       "217             1.0       0.10  \n",
       "218             1.0       0.10  \n",
       "...             ...        ...  \n",
       "20189139        0.4       0.50  \n",
       "20189206        0.4       0.50  \n",
       "20189207        0.4       0.75  \n",
       "20189208        0.4       0.75  \n",
       "20189333        0.3       1.00  \n",
       "\n",
       "[2449719 rows x 9 columns]"
      ]
     },
     "execution_count": 38,
     "metadata": {},
     "output_type": "execute_result"
    }
   ],
   "source": [
    "df[df['avg_diffs'] > 0]"
   ]
  },
  {
   "cell_type": "code",
   "execution_count": 28,
   "id": "3fe4b2eb",
   "metadata": {},
   "outputs": [
    {
     "name": "stdout",
     "output_type": "stream",
     "text": [
      "            ref_cn     var  frac_var\n",
      "motif_len                           \n",
      "1          2615156  487008  0.186225\n",
      "2          2871842  224712  0.078247\n",
      "3          8765660  864841  0.098662\n",
      "4          2778453  337605  0.121508\n",
      "5          1004370  139405  0.138798\n",
      "6          1137637  176954  0.155545\n",
      "7           538936  104800  0.194457\n",
      "8           239752   48254  0.201266\n",
      "9           116473   30615  0.262851\n",
      "10           41132    9944  0.241758\n",
      "11           16385    4391  0.267989\n",
      "12           29465    8784  0.298116\n",
      "13           15257    5086  0.333355\n",
      "14           10942    4023  0.367666\n",
      "15            7905    3297  0.417078\n"
     ]
    }
   ],
   "source": [
    "def frac_variable(data, var_thresh):\n",
    "    a = data.filter(items=['motif_len', 'ref_cn']).groupby('motif_len').count()\n",
    "    a['var'] = data[data['avg_diffs'] > var_thresh].filter(items=['motif_len', 'ref_cn']).groupby('motif_len').count()\n",
    "    a['frac_var'] = a['var'] / a['ref_cn']\n",
    "    return a"
   ]
  },
  {
   "cell_type": "markdown",
   "id": "055752d8",
   "metadata": {},
   "source": [
    "# TRAL panel\n",
    "## avg number of repeat unit differences to reference allele per sample"
   ]
  },
  {
   "cell_type": "code",
   "execution_count": 7,
   "id": "a7ad130f",
   "metadata": {},
   "outputs": [
    {
     "data": {
      "image/png": "[encoded data removed]",
      "text/plain": [
       "<Figure size 432x288 with 1 Axes>"
      ]
     },
     "metadata": {
      "needs_background": "light"
     },
     "output_type": "display_data"
    }
   ],
   "source": [
    "ax = sb.boxplot(x='motif_len', y='avg_diffs', data=df)"
   ]
  },
  {
   "cell_type": "markdown",
   "id": "41cb66c9",
   "metadata": {},
   "source": [
    "## avg allele sizes of str loci in reference genome"
   ]
  },
  {
   "cell_type": "code",
   "execution_count": 10,
   "id": "194081bc",
   "metadata": {},
   "outputs": [
    {
     "data": {
      "text/plain": [
       "<AxesSubplot:xlabel='motif_len'>"
      ]
     },
     "execution_count": 10,
     "metadata": {},
     "output_type": "execute_result"
    },
    {
     "data": {
      "image/png": "[encoded data removed]",
      "text/plain": [
       "<Figure size 432x288 with 1 Axes>"
      ]
     },
     "metadata": {
      "needs_background": "light"
     },
     "output_type": "display_data"
    }
   ],
   "source": [
    "df.filter(items=['motif_len', 'ref_cn']).groupby(['motif_len']).mean().plot.bar()"
   ]
  },
  {
   "cell_type": "markdown",
   "id": "8a543cdc",
   "metadata": {},
   "source": [
    "## Select only more unstable repeat loci\n",
    "### (number of differences to reference >= 5 units per sample)"
   ]
  },
  {
   "cell_type": "code",
   "execution_count": 42,
   "id": "3b2f1c4e",
   "metadata": {},
   "outputs": [
    {
     "data": {
      "image/png": "[encoded data removed]",
      "text/plain": [
       "<Figure size 432x288 with 1 Axes>"
      ]
     },
     "metadata": {
      "needs_background": "light"
     },
     "output_type": "display_data"
    }
   ],
   "source": [
    "ax = sb.boxplot(x='motif_len', y='avg_diffs', data=df[df['avg_diffs'] >= 5])"
   ]
  },
  {
   "cell_type": "code",
   "execution_count": 46,
   "id": "e4f1f845",
   "metadata": {},
   "outputs": [
    {
     "data": {
      "text/plain": [
       "<AxesSubplot:xlabel='motif_len'>"
      ]
     },
     "execution_count": 46,
     "metadata": {},
     "output_type": "execute_result"
    },
    {
     "data": {
      "image/png": "[encoded data removed]",
      "text/plain": [
       "<Figure size 432x288 with 1 Axes>"
      ]
     },
     "metadata": {
      "needs_background": "light"
     },
     "output_type": "display_data"
    }
   ],
   "source": [
    "df[df['avg_diffs'] >= 5].filter(items=['motif_len', 'ref_cn']).groupby(['motif_len']).mean().plot.bar()"
   ]
  },
  {
   "cell_type": "code",
   "execution_count": 49,
   "id": "05e59653",
   "metadata": {},
   "outputs": [
    {
     "name": "stdout",
     "output_type": "stream",
     "text": [
      "            ref_cn      var  frac_var\n",
      "motif_len                            \n",
      "1          2615156  27695.0  0.010590\n",
      "2          2871842  14912.0  0.005192\n",
      "3          8765660    861.0  0.000098\n",
      "4          2778453   1236.0  0.000445\n",
      "5          1004370    300.0  0.000299\n",
      "6          1137637     32.0  0.000028\n",
      "7           538936      4.0  0.000007\n",
      "8           239752      7.0  0.000029\n",
      "9           116473      2.0  0.000017\n",
      "10           41132      NaN       NaN\n",
      "11           16385      NaN       NaN\n",
      "12           29465      NaN       NaN\n",
      "13           15257      2.0  0.000131\n",
      "14           10942      NaN       NaN\n",
      "15            7905      NaN       NaN\n"
     ]
    }
   ],
   "source": [
    "frac_var = frac_variable(data=df, var_thresh=5)\n",
    "print(frac_var)"
   ]
  },
  {
   "cell_type": "markdown",
   "id": "dc74b9f4",
   "metadata": {},
   "source": [
    "# GangSTR panel\n",
    "## avg number of repeat unit differences to reference allele per sample"
   ]
  },
  {
   "cell_type": "code",
   "execution_count": 31,
   "id": "8de848f2",
   "metadata": {},
   "outputs": [
    {
     "data": {
      "text/html": [
       "<div>\n",
       "<style scoped>\n",
       "    .dataframe tbody tr th:only-of-type {\n",
       "        vertical-align: middle;\n",
       "    }\n",
       "\n",
       "    .dataframe tbody tr th {\n",
       "        vertical-align: top;\n",
       "    }\n",
       "\n",
       "    .dataframe thead th {\n",
       "        text-align: right;\n",
       "    }\n",
       "</style>\n",
       "<table border=\"1\" class=\"dataframe\">\n",
       "  <thead>\n",
       "    <tr style=\"text-align: right;\">\n",
       "      <th></th>\n",
       "      <th>chrom</th>\n",
       "      <th>start</th>\n",
       "      <th>end</th>\n",
       "      <th>motif</th>\n",
       "      <th>motif_len</th>\n",
       "      <th>ref_cn</th>\n",
       "      <th>diffs</th>\n",
       "      <th>call_rate</th>\n",
       "      <th>avg_diffs</th>\n",
       "    </tr>\n",
       "  </thead>\n",
       "  <tbody>\n",
       "    <tr>\n",
       "      <th>0</th>\n",
       "      <td>chr1</td>\n",
       "      <td>14070</td>\n",
       "      <td>14081</td>\n",
       "      <td>CCTC</td>\n",
       "      <td>4</td>\n",
       "      <td>3.0</td>\n",
       "      <td>0.0</td>\n",
       "      <td>1.0</td>\n",
       "      <td>0.00</td>\n",
       "    </tr>\n",
       "    <tr>\n",
       "      <th>1</th>\n",
       "      <td>chr1</td>\n",
       "      <td>16620</td>\n",
       "      <td>16631</td>\n",
       "      <td>GCT</td>\n",
       "      <td>3</td>\n",
       "      <td>4.0</td>\n",
       "      <td>0.0</td>\n",
       "      <td>1.0</td>\n",
       "      <td>0.00</td>\n",
       "    </tr>\n",
       "    <tr>\n",
       "      <th>2</th>\n",
       "      <td>chr1</td>\n",
       "      <td>22812</td>\n",
       "      <td>22821</td>\n",
       "      <td>AGGAA</td>\n",
       "      <td>5</td>\n",
       "      <td>2.0</td>\n",
       "      <td>0.0</td>\n",
       "      <td>1.0</td>\n",
       "      <td>0.00</td>\n",
       "    </tr>\n",
       "    <tr>\n",
       "      <th>3</th>\n",
       "      <td>chr1</td>\n",
       "      <td>26454</td>\n",
       "      <td>26465</td>\n",
       "      <td>GT</td>\n",
       "      <td>2</td>\n",
       "      <td>6.0</td>\n",
       "      <td>0.0</td>\n",
       "      <td>1.0</td>\n",
       "      <td>0.00</td>\n",
       "    </tr>\n",
       "    <tr>\n",
       "      <th>4</th>\n",
       "      <td>chr1</td>\n",
       "      <td>31556</td>\n",
       "      <td>31570</td>\n",
       "      <td>AAAAT</td>\n",
       "      <td>5</td>\n",
       "      <td>3.0</td>\n",
       "      <td>0.0</td>\n",
       "      <td>1.0</td>\n",
       "      <td>0.00</td>\n",
       "    </tr>\n",
       "    <tr>\n",
       "      <th>...</th>\n",
       "      <td>...</td>\n",
       "      <td>...</td>\n",
       "      <td>...</td>\n",
       "      <td>...</td>\n",
       "      <td>...</td>\n",
       "      <td>...</td>\n",
       "      <td>...</td>\n",
       "      <td>...</td>\n",
       "      <td>...</td>\n",
       "    </tr>\n",
       "    <tr>\n",
       "      <th>822154</th>\n",
       "      <td>chrY</td>\n",
       "      <td>56884426</td>\n",
       "      <td>56884441</td>\n",
       "      <td>TA</td>\n",
       "      <td>2</td>\n",
       "      <td>8.0</td>\n",
       "      <td>10.0</td>\n",
       "      <td>0.3</td>\n",
       "      <td>3.33</td>\n",
       "    </tr>\n",
       "    <tr>\n",
       "      <th>822155</th>\n",
       "      <td>chrY</td>\n",
       "      <td>56885931</td>\n",
       "      <td>56885946</td>\n",
       "      <td>TAAA</td>\n",
       "      <td>4</td>\n",
       "      <td>4.0</td>\n",
       "      <td>0.0</td>\n",
       "      <td>0.4</td>\n",
       "      <td>0.00</td>\n",
       "    </tr>\n",
       "    <tr>\n",
       "      <th>822156</th>\n",
       "      <td>chrY</td>\n",
       "      <td>56886168</td>\n",
       "      <td>56886179</td>\n",
       "      <td>GAAA</td>\n",
       "      <td>4</td>\n",
       "      <td>3.0</td>\n",
       "      <td>0.0</td>\n",
       "      <td>0.2</td>\n",
       "      <td>0.00</td>\n",
       "    </tr>\n",
       "    <tr>\n",
       "      <th>822157</th>\n",
       "      <td>chrY</td>\n",
       "      <td>56886704</td>\n",
       "      <td>56886715</td>\n",
       "      <td>AATG</td>\n",
       "      <td>4</td>\n",
       "      <td>3.0</td>\n",
       "      <td>0.0</td>\n",
       "      <td>0.5</td>\n",
       "      <td>0.00</td>\n",
       "    </tr>\n",
       "    <tr>\n",
       "      <th>822158</th>\n",
       "      <td>chrY</td>\n",
       "      <td>56886966</td>\n",
       "      <td>56886977</td>\n",
       "      <td>TTTC</td>\n",
       "      <td>4</td>\n",
       "      <td>3.0</td>\n",
       "      <td>0.0</td>\n",
       "      <td>0.4</td>\n",
       "      <td>0.00</td>\n",
       "    </tr>\n",
       "  </tbody>\n",
       "</table>\n",
       "<p>822159 rows × 9 columns</p>\n",
       "</div>"
      ],
      "text/plain": [
       "       chrom     start       end  motif  motif_len  ref_cn  diffs  call_rate  \\\n",
       "0       chr1     14070     14081   CCTC          4     3.0    0.0        1.0   \n",
       "1       chr1     16620     16631    GCT          3     4.0    0.0        1.0   \n",
       "2       chr1     22812     22821  AGGAA          5     2.0    0.0        1.0   \n",
       "3       chr1     26454     26465     GT          2     6.0    0.0        1.0   \n",
       "4       chr1     31556     31570  AAAAT          5     3.0    0.0        1.0   \n",
       "...      ...       ...       ...    ...        ...     ...    ...        ...   \n",
       "822154  chrY  56884426  56884441     TA          2     8.0   10.0        0.3   \n",
       "822155  chrY  56885931  56885946   TAAA          4     4.0    0.0        0.4   \n",
       "822156  chrY  56886168  56886179   GAAA          4     3.0    0.0        0.2   \n",
       "822157  chrY  56886704  56886715   AATG          4     3.0    0.0        0.5   \n",
       "822158  chrY  56886966  56886977   TTTC          4     3.0    0.0        0.4   \n",
       "\n",
       "        avg_diffs  \n",
       "0            0.00  \n",
       "1            0.00  \n",
       "2            0.00  \n",
       "3            0.00  \n",
       "4            0.00  \n",
       "...           ...  \n",
       "822154       3.33  \n",
       "822155       0.00  \n",
       "822156       0.00  \n",
       "822157       0.00  \n",
       "822158       0.00  \n",
       "\n",
       "[822159 rows x 9 columns]"
      ]
     },
     "execution_count": 31,
     "metadata": {},
     "output_type": "execute_result"
    }
   ],
   "source": [
    "g_df = pd.read_csv(\"1000g_gangstr_panel.tsv\", sep=\"\\t\", header=0)\n",
    "g_df"
   ]
  },
  {
   "cell_type": "code",
   "execution_count": 30,
   "id": "7f1e146c",
   "metadata": {},
   "outputs": [
    {
     "data": {
      "image/png": "[encoded data removed]",
      "text/plain": [
       "<Figure size 432x288 with 1 Axes>"
      ]
     },
     "metadata": {
      "needs_background": "light"
     },
     "output_type": "display_data"
    }
   ],
   "source": [
    "ax = sb.boxplot(x='motif_len', y='avg_diffs', data=g_df)"
   ]
  },
  {
   "cell_type": "code",
   "execution_count": 37,
   "id": "9f85919f",
   "metadata": {},
   "outputs": [
    {
     "data": {
      "text/plain": [
       "<AxesSubplot:xlabel='motif_len'>"
      ]
     },
     "execution_count": 37,
     "metadata": {},
     "output_type": "execute_result"
    },
    {
     "data": {
      "image/png": "[encoded data removed]",
      "text/plain": [
       "<Figure size 432x288 with 1 Axes>"
      ]
     },
     "metadata": {
      "needs_background": "light"
     },
     "output_type": "display_data"
    }
   ],
   "source": [
    "g_df.filter(items=['motif_len', 'ref_cn']).groupby(['motif_len']).mean().plot.bar()"
   ]
  },
  {
   "cell_type": "markdown",
   "id": "878edb98",
   "metadata": {},
   "source": [
    "## Select only more unstable repeat loci\n",
    "### (number of differences to reference >= 5 units per sample)"
   ]
  },
  {
   "cell_type": "code",
   "execution_count": 39,
   "id": "0da7771f",
   "metadata": {},
   "outputs": [
    {
     "data": {
      "image/png": "[encoded data removed]",
      "text/plain": [
       "<Figure size 432x288 with 1 Axes>"
      ]
     },
     "metadata": {
      "needs_background": "light"
     },
     "output_type": "display_data"
    }
   ],
   "source": [
    "ax = sb.boxplot(x='motif_len', y='avg_diffs', data=g_df[g_df['avg_diffs'] >= 8])"
   ]
  },
  {
   "cell_type": "code",
   "execution_count": 35,
   "id": "f2dc9276",
   "metadata": {},
   "outputs": [
    {
     "data": {
      "text/plain": [
       "<AxesSubplot:xlabel='motif_len'>"
      ]
     },
     "execution_count": 35,
     "metadata": {},
     "output_type": "execute_result"
    },
    {
     "data": {
      "image/png": "[encoded data removed]",
      "text/plain": [
       "<Figure size 432x288 with 1 Axes>"
      ]
     },
     "metadata": {
      "needs_background": "light"
     },
     "output_type": "display_data"
    }
   ],
   "source": [
    "g_df[g_df['avg_diffs'] >= 5].filter(items=['motif_len', 'ref_cn']).groupby(['motif_len']).mean().plot.bar()"
   ]
  },
  {
   "cell_type": "code",
   "execution_count": 40,
   "id": "c96dd168",
   "metadata": {},
   "outputs": [
    {
     "name": "stdout",
     "output_type": "stream",
     "text": [
      "           ref_cn      var  frac_var\n",
      "motif_len                           \n",
      "2          121236  13846.0  0.114207\n",
      "3          141344    901.0  0.006375\n",
      "4          341823   1282.0  0.003750\n",
      "5          162322    456.0  0.002809\n",
      "6           35478     31.0  0.000874\n",
      "7            8656      1.0  0.000116\n",
      "8            5451      2.0  0.000367\n",
      "9            1906      2.0  0.001049\n",
      "10           1240      NaN       NaN\n",
      "11            443      1.0  0.002257\n",
      "12            389      1.0  0.002571\n",
      "13            229      1.0  0.004367\n",
      "14            233      2.0  0.008584\n",
      "15            227      1.0  0.004405\n",
      "16            275      1.0  0.003636\n",
      "17            243      1.0  0.004115\n",
      "18            277      3.0  0.010830\n",
      "19            181      2.0  0.011050\n",
      "20            206      2.0  0.009709\n"
     ]
    }
   ],
   "source": [
    "frac_var = frac_variable(data=g_df, var_thresh=5)\n",
    "print(frac_var)"
   ]
  },
  {
   "cell_type": "code",
   "execution_count": null,
   "id": "ea79498e",
   "metadata": {},
   "outputs": [],
   "source": []
  }
 ],
 "metadata": {
  "kernelspec": {
   "display_name": "Python 3",
   "language": "python",
   "name": "python3"
  },
  "language_info": {
   "codemirror_mode": {
    "name": "ipython",
    "version": 3
   },
   "file_extension": ".py",
   "mimetype": "text/x-python",
   "name": "python",
   "nbconvert_exporter": "python",
   "pygments_lexer": "ipython3",
   "version": "3.10.0"
  }
 },
 "nbformat": 4,
 "nbformat_minor": 5
}
